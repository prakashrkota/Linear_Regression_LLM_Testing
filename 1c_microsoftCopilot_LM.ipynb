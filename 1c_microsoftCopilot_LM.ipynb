{
 "cells": [
  {
   "cell_type": "code",
   "execution_count": 3,
   "id": "db6856d3-cb12-4769-b034-54a6efb55e43",
   "metadata": {},
   "outputs": [
    {
     "name": "stdout",
     "output_type": "stream",
     "text": [
      "Weights: [110.31295658 -21.14286925 -32.57414498 -38.00091904]\n",
      "Bias: 363.16367372\n",
      "Mean and Standard Deviation for each column in X_train:\n",
      "Column 1: Mean = 1418.37373737, Std Dev = 411.61562893\n",
      "Column 2: Mean = 2.71717172, Std Dev = 0.65196523\n",
      "Column 3: Mean = 1.38383838, Std Dev = 0.48631932\n",
      "Column 4: Mean = 38.38383838, Std Dev = 25.77788069\n",
      "Scaled values for the new feature set: [-0.53052829  0.43380884 -0.78927234  0.06269567]\n",
      "Predicted house price: $318.79494369\n"
     ]
    }
   ],
   "source": [
    "# Test date: 21 Jan 2025\n",
    "# Code from Microsoft Copilot generated using the following prompt\n",
    "\"\"\"\n",
    "Attached is a csv file called houses.99.txt and it is delimited\n",
    "by \",\".  The first row is a header.  The remainder rows contain \n",
    "the numberical data.  The first four columns contain the input\n",
    "features, X_train, which are for predicting the house prices.\n",
    "The fifth column contains the house prices in units of \n",
    "1000's of dollars, y_train. \n",
    "We wish to fit a linear model y = w.X + b, where w are the weights,\n",
    "b is the bias value and X is the input feature set and \n",
    "y is the output house price in dollars.\n",
    "Please give a python code to determine the linear model \n",
    "for X_train and y_train using sklearn and the SGDRegressor.  \n",
    "Use scaling for X_train.  \n",
    "Please also include the code for reading X_train and y_train \n",
    "from the houses99.txt file.  \n",
    "Using this code, determine the weights and bias and show the model.  \n",
    "Calculate the weights and the bias using this code, and give the model.  \n",
    "Print the mean and standard deviation, for each column in X_train.  \n",
    "Finally, predict the house price for a new feature set [1200, 3, 1, 40].\n",
    "Give the scaled values for this feature set.  \n",
    "Also, provide the python code listing and let the \n",
    "print statements for numbers be to 8 decimal places.\n",
    "\"\"\"\n",
    "\n",
    "import pandas as pd\n",
    "from sklearn.preprocessing import StandardScaler\n",
    "from sklearn.linear_model import SGDRegressor\n",
    "\n",
    "# Step 1: Read X_train and y_train from the houses99.txt file\n",
    "data = pd.read_csv('./data/houses99.txt')\n",
    "\n",
    "# Extract input features and target values\n",
    "X_train = data.iloc[:, :4].values\n",
    "y_train = data.iloc[:, 4].values  # Convert y_train to dollars\n",
    "\n",
    "# Step 2: Scale X_train\n",
    "scaler = StandardScaler()\n",
    "X_train_scaled = scaler.fit_transform(X_train)\n",
    "\n",
    "# Step 3: Fit a linear model using SGDRegressor\n",
    "model = SGDRegressor(max_iter=1000, tol=1e-3)\n",
    "model.fit(X_train_scaled, y_train)\n",
    "\n",
    "# Step 4: Calculate and print weights, bias, mean, and standard deviation\n",
    "weights = model.coef_\n",
    "bias = model.intercept_\n",
    "\n",
    "print(f'Weights: {weights}')\n",
    "print(f'Bias: {bias[0]:.8f}')\n",
    "\n",
    "mean = scaler.mean_\n",
    "std_dev = scaler.scale_\n",
    "\n",
    "print('Mean and Standard Deviation for each column in X_train:')\n",
    "for i in range(len(mean)):\n",
    "    print(f'Column {i+1}: Mean = {mean[i]:.8f}, Std Dev = {std_dev[i]:.8f}')\n",
    "\n",
    "# Step 5: Predict the house price for a new feature set [1200, 3, 1, 40]\n",
    "new_features = [[1200, 3, 1, 40]]\n",
    "new_features_scaled = scaler.transform(new_features)\n",
    "predicted_price = model.predict(new_features_scaled)\n",
    "\n",
    "print(f'Scaled values for the new feature set: {new_features_scaled[0]}')\n",
    "print(f'Predicted house price: ${predicted_price[0]:.8f}')\n"
   ]
  },
  {
   "cell_type": "code",
   "execution_count": null,
   "id": "2814cb33-75e8-4352-b432-13c725e085b1",
   "metadata": {},
   "outputs": [],
   "source": []
  }
 ],
 "metadata": {
  "kernelspec": {
   "display_name": "praxvir",
   "language": "python",
   "name": "praxvir"
  },
  "language_info": {
   "codemirror_mode": {
    "name": "ipython",
    "version": 3
   },
   "file_extension": ".py",
   "mimetype": "text/x-python",
   "name": "python",
   "nbconvert_exporter": "python",
   "pygments_lexer": "ipython3",
   "version": "3.12.8"
  }
 },
 "nbformat": 4,
 "nbformat_minor": 5
}
